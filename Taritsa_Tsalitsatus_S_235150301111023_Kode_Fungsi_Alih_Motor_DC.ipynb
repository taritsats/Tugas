# Kode Fungsi Alih Motor DC
Nama : Taritsa Tsalitsatus Sholihah
NIM : 235150301111023

1. **Model Matematika Motor DC**
    - Persamaan listrik: 
      $$V = Ri + L \frac{di}{dt} + T_m$$
    - Persamaan mekanik: 
      $$T_m = J \frac{d\omega}{dt} + b\omega$$

2. **Transformasi Laplace**
    - Transformasi persamaan listrik dan mekanik ke domain Laplace untuk mendapatkan hubungan antara kecepatan sudut ($\omega$) dan tegangan (V).

3. **Fungsi Alih**
    - Menentukan fungsi alih ($G(s)$) yang menghubungkan kecepatan sudut ($\omega$) dan tegangan (V).

## Import Library
Mengimpor library yang diperlukan untuk perhitungan simbolik dan transformasi Laplace.
```python
from sympy import symbols, Function, diff, Eq, dsolve, simplify, laplace_transform

{
  "nbformat": 4,
  "nbformat_minor": 0,
  "metadata": {
    "colab": {
      "provenance": []
    },
    "kernelspec": {
      "name": "python3",
      "display_name": "Python 3"
    },
    "language_info": {
      "name": "python"
    }
  },
  "cells": [
    {
      "cell_type": "markdown",
      "source": [
        "## 1. Model Matematika Motor DC (Persamaan Listrik dan Mekanik)"
      ],
      "metadata": {
        "id": "8vbxSt1q61pg"
      }
    },
    {
      "cell_type": "code",
      "source": [
        "import sympy as sp\n",
        "\n",
        "# Define symbols\n",
        "L, R, V, K, theta, I, doti, J, b, s, t, omega, omegadot = sp.symbols('L, R, V, K, \\\\theta, I, \\\\dot{i}, J, b, s, t, omega,\\\\dot{\\\\omega}')\n",
        "\n",
        "dIdt = (sp.Function('I')(t).diff(t))\n",
        "dthetadt = (sp.Function('\\\\theta')(t).diff(t))\n",
        "#display(dIdt)\n",
        "\n",
        "#eq1 = L *dIdt + R * I - V + K * dthetadt  # Electrical equation\n",
        "#eq2 = J * dthetadt**2 + b * dthetadt + K * I  # Mechanical equation\n",
        "\n",
        "eq1 = L *doti + R * I - V + K * omega  # Electrical equation\n",
        "eq2 = J * omegadot + b * omega + K * I  # Mechanical equation\n",
        "\n",
        "print(\"\\nTransformasi Laplace Persamaan Listrik:\")\n",
        "display(eq1)\n",
        "print(\"\\nTransformasi Laplace Persamaan Mekanik:\")\n",
        "display(eq2)"
      ],
      "metadata": {
        "colab": {
          "base_uri": "https://localhost:8080/",
          "height": 129
        },
        "id": "Z9fm-4Wk69t6",
        "outputId": "11a1639d-b2d4-4e58-9110-ebbd02818187"
      },
      "execution_count": 8,
      "outputs": [
        {
          "output_type": "stream",
          "name": "stdout",
          "text": [
            "\n",
            "Transformasi Laplace Persamaan Listrik:\n"
          ]
        },
        {
          "output_type": "display_data",
          "data": {
            "text/plain": [
              "I*R + K*omega + L*\\dot{i} - V"
            ],
            "text/latex": "$\\displaystyle I R + K \\omega + L \\dot{i} - V$"
          },
          "metadata": {}
        },
        {
          "output_type": "stream",
          "name": "stdout",
          "text": [
            "\n",
            "Transformasi Laplace Persamaan Mekanik:\n"
          ]
        },
        {
          "output_type": "display_data",
          "data": {
            "text/plain": [
              "I*K + J*\\dot{\\omega} + b*omega"
            ],
            "text/latex": "$\\displaystyle I K + J \\dot{\\omega} + b \\omega$"
          },
          "metadata": {}
        }
      ]
    },
    {
      "cell_type": "markdown",
      "source": [
        "## 2. Transformasi Laplace pada Motor DC"
      ],
      "metadata": {
        "id": "FhMAwubp7A4-"
      }
    },
    {
      "cell_type": "code",
      "source": [
        "laplace_expr = sp.laplace_transform(eq1, t, s, noconds=True)\n",
        "laplace_expr2 = sp.laplace_transform(eq2, t, s, noconds=True)\n",
        "display(laplace_expr.simplify())\n",
        "display(laplace_expr2.simplify())"
      ],
      "metadata": {
        "colab": {
          "base_uri": "https://localhost:8080/",
          "height": 90
        },
        "id": "XXRWlYEr7AoH",
        "outputId": "f7685275-b803-49b1-f349-420b2f80c7b2"
      },
      "execution_count": 9,
      "outputs": [
        {
          "output_type": "display_data",
          "data": {
            "text/plain": [
              "(I*R + K*omega + L*\\dot{i} - V)/s"
            ],
            "text/latex": "$\\displaystyle \\frac{I R + K \\omega + L \\dot{i} - V}{s}$"
          },
          "metadata": {}
        },
        {
          "output_type": "display_data",
          "data": {
            "text/plain": [
              "(I*K + J*\\dot{\\omega} + b*omega)/s"
            ],
            "text/latex": "$\\displaystyle \\frac{I K + J \\dot{\\omega} + b \\omega}{s}$"
          },
          "metadata": {}
        }
      ]
    },
    {
      "cell_type": "markdown",
      "source": [
        "## 3. Fungsi Alih Hubungan antara  kecepatan sudut ($\\omega$) terhadap tegangan (V)"
      ],
      "metadata": {
        "id": "VzV4-iPB7HFz"
      }
    },
    {
      "cell_type": "code",
      "source": [
        "#display(dIdt)\n",
        "#display(dthetadt)\n",
        "sol = sp.solve((eq1,eq2),(doti,omegadot),Dict=True)\n",
        "#print(sol)\n",
        "display(sol[doti])\n",
        "display(sol[omegadot])"
      ],
      "metadata": {
        "colab": {
          "base_uri": "https://localhost:8080/",
          "height": 87
        },
        "id": "rmcKEl0V7Jlw",
        "outputId": "02959d9a-3580-4abf-93d0-6e4f571177dd"
      },
      "execution_count": 10,
      "outputs": [
        {
          "output_type": "display_data",
          "data": {
            "text/plain": [
              "(-I*R - K*omega + V)/L"
            ],
            "text/latex": "$\\displaystyle \\frac{- I R - K \\omega + V}{L}$"
          },
          "metadata": {}
        },
        {
          "output_type": "display_data",
          "data": {
            "text/plain": [
              "(-I*K - b*omega)/J"
            ],
            "text/latex": "$\\displaystyle \\frac{- I K - b \\omega}{J}$"
          },
          "metadata": {}
        }
      ]
    }
  ]
}
